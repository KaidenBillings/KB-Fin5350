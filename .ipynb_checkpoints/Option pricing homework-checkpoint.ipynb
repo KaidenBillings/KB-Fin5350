{
 "cells": [
  {
   "cell_type": "code",
   "execution_count": 38,
   "metadata": {},
   "outputs": [],
   "source": [
    "import numpy as np\n",
    "S = 80\n",
    "K = 95\n",
    "r = .08\n",
    "v = .3 ### standard deviation\n",
    "q = 0 ### dividend payouts\n",
    "expiry = 1 ### T in notes\n",
    "n = 1"
   ]
  },
  {
   "cell_type": "code",
   "execution_count": 39,
   "metadata": {},
   "outputs": [],
   "source": [
    "def call_payoff(spot, strike):\n",
    "    return np.maximum(spot - strike, 0.0)\n",
    "\n",
    "def put_payoff(spot, strike):\n",
    "    return np.maximum(strike - spot, 0.0)"
   ]
  },
  {
   "cell_type": "code",
   "execution_count": 40,
   "metadata": {},
   "outputs": [],
   "source": [
    "### risk neutral form for single period\n",
    "def single_period_binom_model(S, K, r, v, T, n, payoff):\n",
    "    h = T/n\n",
    "    u = np.exp((r-q)*h+v*np.sqrt(h))\n",
    "    d = np.exp((r-q)*h-v*np.sqrt(h))\n",
    "    fu = payoff(u*S, K)\n",
    "    fd = payoff(d*S, K)\n",
    "    pstar = (np.exp((r - q)*h) - d)/(u - d)\n",
    "    f0 = np.exp(-r*h)*(fu*pstar + fd*(1-pstar))\n",
    "    \n",
    "    return f0\n",
    "\n",
    "call_price_rn1 = single_period_binom_model(S, K, r, v, expiry, n, call_payoff)\n",
    "\n",
    "put_price_rn1 = single_period_binom_model(S, K, r, v, expiry, n, put_payoff)"
   ]
  },
  {
   "cell_type": "code",
   "execution_count": 41,
   "metadata": {},
   "outputs": [],
   "source": [
    "### No-Arbitrage form\n",
    "def no_arbitrage_form(S, K, r, v, T, n, payoff):\n",
    "    h = T/n\n",
    "    u = 1.3\n",
    "    d = .8\n",
    "    fu = payoff(u*S, K) ###Cu\n",
    "    fd = payoff(d*S, K) ###Cd\n",
    "    D = (fu-fd)/(S*(u-d)) ### Delta\n",
    "    B = np.exp(-r*h)*((u*fd - d*fu)/(u-d)) ###leverage position\n",
    "    f_no_arb = D*S + B\n",
    "    \n",
    "    return \"Premium: \" + str(f_no_arb) + \" Delta: \" + str(D) + \" Leverage Position: \" + str(B)\n",
    "\n",
    "call_price_na1 = no_arbitrage_form(S, K, r, v, expiry, n, call_payoff)\n",
    "\n",
    "put_price_na1 = no_arbitrage_form(S, K, r, v, expiry, n, put_payoff)"
   ]
  },
  {
   "cell_type": "code",
   "execution_count": 46,
   "metadata": {},
   "outputs": [],
   "source": [
    "### 1a\n",
    "S = 100\n",
    "K = 105\n",
    "r = .08\n",
    "expiry = .5\n",
    "q = 0\n",
    "n = 1"
   ]
  },
  {
   "cell_type": "code",
   "execution_count": 47,
   "metadata": {},
   "outputs": [
    {
     "data": {
      "text/plain": [
       "'Premium: 4.707124612032445 Delta: 0.225 Leverage Position: -13.292875387967555'"
      ]
     },
     "execution_count": 47,
     "metadata": {},
     "output_type": "execute_result"
    }
   ],
   "source": [
    "call_price_na1"
   ]
  },
  {
   "cell_type": "code",
   "execution_count": null,
   "metadata": {},
   "outputs": [],
   "source": []
  }
 ],
 "metadata": {
  "kernelspec": {
   "display_name": "Python 3",
   "language": "python",
   "name": "python3"
  },
  "language_info": {
   "codemirror_mode": {
    "name": "ipython",
    "version": 3
   },
   "file_extension": ".py",
   "mimetype": "text/x-python",
   "name": "python",
   "nbconvert_exporter": "python",
   "pygments_lexer": "ipython3",
   "version": "3.6.5"
  }
 },
 "nbformat": 4,
 "nbformat_minor": 2
}
