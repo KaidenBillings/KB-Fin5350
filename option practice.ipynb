{
 "cells": [
  {
   "cell_type": "code",
   "execution_count": 5,
   "metadata": {},
   "outputs": [],
   "source": [
    "import numpy as np"
   ]
  },
  {
   "cell_type": "code",
   "execution_count": 30,
   "metadata": {},
   "outputs": [],
   "source": [
    "S = 100\n",
    "K = 95.\n",
    "r = .08\n",
    "v = .3 ### standard deviation\n",
    "q = 0 ### dividend payouts\n",
    "expiry = 1 ### T in notes\n",
    "n = 2\n",
    "h = expiry/n\n",
    "u = np.exp((r-q)*h+v*np.sqrt(h))\n",
    "d = np.exp((r-q)*h-v*np.sqrt(h))"
   ]
  },
  {
   "cell_type": "code",
   "execution_count": 31,
   "metadata": {},
   "outputs": [
    {
     "name": "stdout",
     "output_type": "stream",
     "text": [
      "1.2867659233791633\n",
      "0.8418680103294537\n"
     ]
    }
   ],
   "source": [
    "print(u)\n",
    "print(d)"
   ]
  },
  {
   "cell_type": "code",
   "execution_count": 32,
   "metadata": {},
   "outputs": [],
   "source": [
    "def call_payoff(spot, strike):\n",
    "    return np.maximum(spot - strike, 0.0)\n",
    "\n",
    "def put_payoff(spot, strike):\n",
    "    return np.maximum(strike - spot, 0.0)"
   ]
  },
  {
   "cell_type": "code",
   "execution_count": 33,
   "metadata": {},
   "outputs": [
    {
     "data": {
      "text/plain": [
       "14.46852100429276"
      ]
     },
     "execution_count": 33,
     "metadata": {},
     "output_type": "execute_result"
    }
   ],
   "source": [
    "### No-Arbitrage form\n",
    "fu = call_payoff(u * S, K)\n",
    "fd = call_payoff(d * S, K)\n",
    "D = (fu - fd)/(S * (u - d))                        ## Delta\n",
    "B = np.exp(-r * h) * ((u * fd - d * fu)/ (u - d))  ## B \n",
    "f_no_arb = S * D + B\n",
    "f_no_arb"
   ]
  },
  {
   "cell_type": "code",
   "execution_count": 34,
   "metadata": {},
   "outputs": [
    {
     "data": {
      "text/plain": [
       "14.468521004292745"
      ]
     },
     "execution_count": 34,
     "metadata": {},
     "output_type": "execute_result"
    }
   ],
   "source": [
    "### Risk-neutral form\n",
    "pstar = (np.exp((r - q)*h) - d)/(u - d)\n",
    "f_risk_n = np.exp(-r*h)*(fu*pstar - fd*(1-pstar))\n",
    "f_risk_n"
   ]
  },
  {
   "cell_type": "code",
   "execution_count": 35,
   "metadata": {},
   "outputs": [],
   "source": [
    "### Single Period Binomial Function Model\n",
    "def single_period_binom_model(S, K, r, v, T, n, payoff):\n",
    "    h = T/n\n",
    "    u = np.exp((r-q)*h+v*np.sqrt(h))\n",
    "    d = np.exp((r-q)*h-v*np.sqrt(h))\n",
    "    fu = payoff(u*S, K)\n",
    "    fd = payoff(d*S, K)\n",
    "    pstar = (np.exp((r - q)*h) - d)/(u - d)\n",
    "    f0 = np.exp(-r*h)*(fu*pstar + fd*(1-pstar))\n",
    "    \n",
    "    return f0"
   ]
  },
  {
   "cell_type": "code",
   "execution_count": 36,
   "metadata": {},
   "outputs": [],
   "source": [
    "call_price_1 = single_period_binom_model(S, K, r, v, expiry, n, call_payoff)"
   ]
  },
  {
   "cell_type": "code",
   "execution_count": 37,
   "metadata": {},
   "outputs": [],
   "source": [
    "put_price_1 = single_period_binom_model(S, K, r, v, expiry, n, put_payoff)"
   ]
  },
  {
   "cell_type": "code",
   "execution_count": 38,
   "metadata": {},
   "outputs": [
    {
     "data": {
      "text/plain": [
       "14.468521004292745"
      ]
     },
     "execution_count": 38,
     "metadata": {},
     "output_type": "execute_result"
    }
   ],
   "source": [
    "call_price_1"
   ]
  },
  {
   "cell_type": "code",
   "execution_count": 39,
   "metadata": {},
   "outputs": [
    {
     "data": {
      "text/plain": [
       "5.743517723763451"
      ]
     },
     "execution_count": 39,
     "metadata": {},
     "output_type": "execute_result"
    }
   ],
   "source": [
    "put_price_1"
   ]
  },
  {
   "cell_type": "code",
   "execution_count": 40,
   "metadata": {},
   "outputs": [
    {
     "data": {
      "text/plain": [
       "0.0"
      ]
     },
     "execution_count": 40,
     "metadata": {},
     "output_type": "execute_result"
    }
   ],
   "source": [
    "put_payoff(S, K)"
   ]
  },
  {
   "cell_type": "code",
   "execution_count": 42,
   "metadata": {},
   "outputs": [
    {
     "data": {
      "text/plain": [
       "array([0., 0., 0.])"
      ]
     },
     "execution_count": 42,
     "metadata": {},
     "output_type": "execute_result"
    }
   ],
   "source": [
    "S = 100.0\n",
    "K = 95.0\n",
    "r = 0.08\n",
    "v = 0.30\n",
    "q = 0.0\n",
    "T = 1\n",
    "n = 2\n",
    "h = T / n\n",
    "nodes = n + 1\n",
    "spot_T = np.zeros((nodes, ))\n",
    "spot_T"
   ]
  },
  {
   "cell_type": "code",
   "execution_count": 43,
   "metadata": {},
   "outputs": [
    {
     "data": {
      "text/plain": [
       "array([ 70.87417468, 108.32870677, 165.57665416])"
      ]
     },
     "execution_count": 43,
     "metadata": {},
     "output_type": "execute_result"
    }
   ],
   "source": [
    "for i in range(nodes):\n",
    "    spot_T[i] = S*(u**(i))*(d**(n-i))\n",
    "spot_T"
   ]
  },
  {
   "cell_type": "code",
   "execution_count": 44,
   "metadata": {},
   "outputs": [],
   "source": [
    "from scipy.stats import binom"
   ]
  },
  {
   "cell_type": "code",
   "execution_count": 45,
   "metadata": {},
   "outputs": [
    {
     "data": {
      "text/plain": [
       "array([0.30562657, 0.49441692, 0.19995651])"
      ]
     },
     "execution_count": 45,
     "metadata": {},
     "output_type": "execute_result"
    }
   ],
   "source": [
    "probs = np.zeros((nodes, ))\n",
    "for i in range(nodes):\n",
    "    probs[i] = binom.pmf(i,n,pstar)\n",
    "probs"
   ]
  },
  {
   "cell_type": "code",
   "execution_count": 46,
   "metadata": {},
   "outputs": [
    {
     "data": {
      "text/plain": [
       "array([ 0.        , 13.32870677, 70.57665416])"
      ]
     },
     "execution_count": 46,
     "metadata": {},
     "output_type": "execute_result"
    }
   ],
   "source": [
    "call_T = call_payoff(spot_T, K)\n",
    "call_T"
   ]
  },
  {
   "cell_type": "code",
   "execution_count": 49,
   "metadata": {},
   "outputs": [
    {
     "data": {
      "text/plain": [
       "19.11053913600299"
      ]
     },
     "execution_count": 49,
     "metadata": {},
     "output_type": "execute_result"
    }
   ],
   "source": [
    "call_price_rn = np.exp(-r * expiry) * np.dot(call_T, probs)\n",
    "call_price_rn"
   ]
  },
  {
   "cell_type": "code",
   "execution_count": 57,
   "metadata": {},
   "outputs": [],
   "source": [
    "def euro_binomial_pricer(S, K, r, v, q, T, n, payoff, verbose = True):\n",
    "    nodes = n  + 1\n",
    "    h = T / n\n",
    "    u = np.exp((r - q) * h + v * np.sqrt(h))\n",
    "    d = np.exp((r - q) * h - v * np.sqrt(h))\n",
    "    pstar = (np.exp((r - q) * h) - d) / (u - d)\n",
    "    \n",
    "    price = 0.0\n",
    "    \n",
    "    for i in range(nodes):\n",
    "        prob = binom.pmf(i, n, pstar)\n",
    "        spotT = S * (u ** i) * (d ** (n - i))\n",
    "        po = payoff(spotT, K) \n",
    "        price += po * prob\n",
    "        if verbose:\n",
    "            print(f\"({spotT:0.4f}, {po:0.4f}, {prob:0.4f})\")\n",
    "        \n",
    "    price *= np.exp(-r * T)\n",
    "    \n",
    "    return price"
   ]
  },
  {
   "cell_type": "code",
   "execution_count": 58,
   "metadata": {},
   "outputs": [
    {
     "name": "stdout",
     "output_type": "stream",
     "text": [
      "(26.4157, 0.0000, 0.1603)\n",
      "(37.3513, 0.0000, 0.4044)\n",
      "(52.8140, 12.8140, 0.3400)\n",
      "(74.6781, 34.6781, 0.0953)\n"
     ]
    },
    {
     "data": {
      "text/plain": [
       "7.073853261277715"
      ]
     },
     "execution_count": 58,
     "metadata": {},
     "output_type": "execute_result"
    }
   ],
   "source": [
    "euro_binomial_pricer(S, K, r, v, q, expiry, n, call_payoff, verbose = True)"
   ]
  },
  {
   "cell_type": "code",
   "execution_count": 59,
   "metadata": {},
   "outputs": [
    {
     "name": "stdout",
     "output_type": "stream",
     "text": [
      "(26.4157, 13.5843, 0.1603)\n",
      "(37.3513, 2.6487, 0.4044)\n",
      "(52.8140, 0.0000, 0.3400)\n",
      "(74.6781, 0.0000, 0.0953)\n"
     ]
    },
    {
     "data": {
      "text/plain": [
       "2.998507116743151"
      ]
     },
     "execution_count": 59,
     "metadata": {},
     "output_type": "execute_result"
    }
   ],
   "source": [
    "euro_binomial_pricer(S, K, r, v, q, expiry, n, put_payoff, verbose = True)"
   ]
  },
  {
   "cell_type": "code",
   "execution_count": 60,
   "metadata": {},
   "outputs": [],
   "source": [
    "### recursive model for European binomial pricer\n",
    "### code from Dr. Brough"
   ]
  },
  {
   "cell_type": "code",
   "execution_count": 63,
   "metadata": {},
   "outputs": [
    {
     "name": "stdout",
     "output_type": "stream",
     "text": [
      "(26.4157, 13.5843, 0.1603)\n",
      "(37.3513, 2.6487, 0.4044)\n",
      "(52.8140, 0.0000, 0.3400)\n",
      "(74.6781, 0.0000, 0.0953)\n",
      "The European Put Premium: $2.999\n"
     ]
    }
   ],
   "source": [
    "S = 41\n",
    "K = 40\n",
    "r = .08\n",
    "v = .3\n",
    "q = 0\n",
    "expiry = 1\n",
    "n = 3\n",
    "put_price = euro_binomial_pricer(S, K, r, v, q, expiry, n, put_payoff, verbose = True)\n",
    "print(f\"The European Put Premium: ${put_price:0.3f}\")"
   ]
  },
  {
   "cell_type": "code",
   "execution_count": 74,
   "metadata": {},
   "outputs": [],
   "source": [
    "def euro_binomial_pricer_recursive(S, K, r, v, q, T, n, payoff, verbose = True):\n",
    "    nodes = n  + 1\n",
    "    h = T / n\n",
    "    u = np.exp((r - q) * h + v * np.sqrt(h))\n",
    "    d = np.exp((r - q) * h - v * np.sqrt(h))\n",
    "    pu = (np.exp((r - q) * h) - d) / (u - d)\n",
    "    pd = 1.0-pu\n",
    "    disc = np.exp(-r*h)\n",
    "    \n",
    "    ### Arrays to store the spot prices and option values\n",
    "    Ct = np.empty(nodes)\n",
    "    St = np.empty(nodes)\n",
    "    \n",
    "    for i in range(nodes):\n",
    "        St[i] = S * (u ** (n - i) * (d ** (i)))\n",
    "        Ct[i] = payoff(St[i], K)\n",
    "    \n",
    "    ###(start at n-1 column, go to but not including -1, go back by steps of -1)\n",
    "    for t in range((n-1), -1, -1):\n",
    "        ### go up to but not including step t +1, so it goes up to the penultimate node\n",
    "        for j in range(t+1):\n",
    "            Ct[j] = disc*(pd*Ct[j+1] + pu*Ct[j])\n",
    "            #St[j] = St[j]/u\n",
    "            #Ct[j] = np.maximum(ct[j], early payoff)\n",
    "            \n",
    "            \n",
    "    return Ct[0]"
   ]
  },
  {
   "cell_type": "code",
   "execution_count": 75,
   "metadata": {},
   "outputs": [
    {
     "data": {
      "text/plain": [
       "2.9985071167431516"
      ]
     },
     "execution_count": 75,
     "metadata": {},
     "output_type": "execute_result"
    }
   ],
   "source": [
    "euro_binomial_pricer_recursive(S, K, r, v, q, expiry, n, put_payoff, verbose = True)"
   ]
  },
  {
   "cell_type": "code",
   "execution_count": null,
   "metadata": {},
   "outputs": [],
   "source": []
  }
 ],
 "metadata": {
  "kernelspec": {
   "display_name": "Python 3",
   "language": "python",
   "name": "python3"
  },
  "language_info": {
   "codemirror_mode": {
    "name": "ipython",
    "version": 3
   },
   "file_extension": ".py",
   "mimetype": "text/x-python",
   "name": "python",
   "nbconvert_exporter": "python",
   "pygments_lexer": "ipython3",
   "version": "3.6.5"
  }
 },
 "nbformat": 4,
 "nbformat_minor": 2
}
